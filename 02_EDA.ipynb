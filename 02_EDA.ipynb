{
 "cells": [
  {
   "cell_type": "code",
   "execution_count": 1,
   "id": "ac8966f1",
   "metadata": {},
   "outputs": [],
   "source": [
    "import numpy as np\n",
    "import pandas as pd\n",
    "import matplotlib.pyplot as plt\n",
    "import seaborn as sns\n",
    "sns.set()"
   ]
  },
  {
   "cell_type": "code",
   "execution_count": 8,
   "id": "ff35de4c",
   "metadata": {},
   "outputs": [],
   "source": [
    "from sklearn.feature_extraction.text import CountVectorizer"
   ]
  },
  {
   "cell_type": "code",
   "execution_count": 2,
   "id": "89baebe9",
   "metadata": {},
   "outputs": [],
   "source": [
    "from sklearn.linear_model import LinearRegression, Ridge, Lasso, ElasticNet\n",
    "from sklearn.model_selection import GridSearchCV, train_test_split"
   ]
  },
  {
   "cell_type": "code",
   "execution_count": 20,
   "id": "7897aaaa",
   "metadata": {},
   "outputs": [],
   "source": [
    "vegan = pd.read_csv('vegan.csv', encoding='latin-1')"
   ]
  },
  {
   "cell_type": "code",
   "execution_count": 21,
   "id": "b1d0310b",
   "metadata": {},
   "outputs": [
    {
     "data": {
      "text/html": [
       "<div>\n",
       "<style scoped>\n",
       "    .dataframe tbody tr th:only-of-type {\n",
       "        vertical-align: middle;\n",
       "    }\n",
       "\n",
       "    .dataframe tbody tr th {\n",
       "        vertical-align: top;\n",
       "    }\n",
       "\n",
       "    .dataframe thead th {\n",
       "        text-align: right;\n",
       "    }\n",
       "</style>\n",
       "<table border=\"1\" class=\"dataframe\">\n",
       "  <thead>\n",
       "    <tr style=\"text-align: right;\">\n",
       "      <th></th>\n",
       "      <th>title</th>\n",
       "      <th>selftext</th>\n",
       "      <th>created_utc</th>\n",
       "      <th>length</th>\n",
       "      <th>word_count</th>\n",
       "    </tr>\n",
       "  </thead>\n",
       "  <tbody>\n",
       "    <tr>\n",
       "      <th>0</th>\n",
       "      <td>Last friday someone from my college told me it...</td>\n",
       "      <td>So me and a women from my college talked a lit...</td>\n",
       "      <td>1679855229</td>\n",
       "      <td>4419</td>\n",
       "      <td>832</td>\n",
       "    </tr>\n",
       "    <tr>\n",
       "      <th>1</th>\n",
       "      <td>Appreciation Post for How Far Weâve Come in ...</td>\n",
       "      <td>NaN</td>\n",
       "      <td>1679855162</td>\n",
       "      <td>0</td>\n",
       "      <td>0</td>\n",
       "    </tr>\n",
       "    <tr>\n",
       "      <th>2</th>\n",
       "      <td>Just Got A 30 Day Ban on a Left Wing Sub</td>\n",
       "      <td>[removed]</td>\n",
       "      <td>1679854478</td>\n",
       "      <td>9</td>\n",
       "      <td>0</td>\n",
       "    </tr>\n",
       "    <tr>\n",
       "      <th>3</th>\n",
       "      <td>Anyone here cycle off/on their supplement vita...</td>\n",
       "      <td>[removed]</td>\n",
       "      <td>1679854077</td>\n",
       "      <td>9</td>\n",
       "      <td>0</td>\n",
       "    </tr>\n",
       "    <tr>\n",
       "      <th>4</th>\n",
       "      <td>feeling hopeless about it all</td>\n",
       "      <td>When I'm thinking of all the baby chicks getti...</td>\n",
       "      <td>1679853443</td>\n",
       "      <td>763</td>\n",
       "      <td>131</td>\n",
       "    </tr>\n",
       "  </tbody>\n",
       "</table>\n",
       "</div>"
      ],
      "text/plain": [
       "                                               title  \\\n",
       "0  Last friday someone from my college told me it...   \n",
       "1  Appreciation Post for How Far Weâve Come in ...   \n",
       "2           Just Got A 30 Day Ban on a Left Wing Sub   \n",
       "3  Anyone here cycle off/on their supplement vita...   \n",
       "4                      feeling hopeless about it all   \n",
       "\n",
       "                                            selftext  created_utc  length  \\\n",
       "0  So me and a women from my college talked a lit...   1679855229    4419   \n",
       "1                                                NaN   1679855162       0   \n",
       "2                                          [removed]   1679854478       9   \n",
       "3                                          [removed]   1679854077       9   \n",
       "4  When I'm thinking of all the baby chicks getti...   1679853443     763   \n",
       "\n",
       "   word_count  \n",
       "0         832  \n",
       "1           0  \n",
       "2           0  \n",
       "3           0  \n",
       "4         131  "
      ]
     },
     "execution_count": 21,
     "metadata": {},
     "output_type": "execute_result"
    }
   ],
   "source": [
    "vegan.head()"
   ]
  },
  {
   "cell_type": "code",
   "execution_count": 22,
   "id": "8cec2161",
   "metadata": {},
   "outputs": [],
   "source": [
    "vegan['target'] = 0"
   ]
  },
  {
   "cell_type": "code",
   "execution_count": 31,
   "id": "0a3154c5",
   "metadata": {},
   "outputs": [
    {
     "data": {
      "text/html": [
       "<div>\n",
       "<style scoped>\n",
       "    .dataframe tbody tr th:only-of-type {\n",
       "        vertical-align: middle;\n",
       "    }\n",
       "\n",
       "    .dataframe tbody tr th {\n",
       "        vertical-align: top;\n",
       "    }\n",
       "\n",
       "    .dataframe thead th {\n",
       "        text-align: right;\n",
       "    }\n",
       "</style>\n",
       "<table border=\"1\" class=\"dataframe\">\n",
       "  <thead>\n",
       "    <tr style=\"text-align: right;\">\n",
       "      <th></th>\n",
       "      <th>title</th>\n",
       "      <th>selftext</th>\n",
       "      <th>created_utc</th>\n",
       "      <th>length</th>\n",
       "      <th>word_count</th>\n",
       "      <th>target</th>\n",
       "    </tr>\n",
       "  </thead>\n",
       "  <tbody>\n",
       "    <tr>\n",
       "      <th>0</th>\n",
       "      <td>Last friday someone from my college told me it...</td>\n",
       "      <td>So me and a women from my college talked a lit...</td>\n",
       "      <td>1679855229</td>\n",
       "      <td>4419</td>\n",
       "      <td>832</td>\n",
       "      <td>0</td>\n",
       "    </tr>\n",
       "    <tr>\n",
       "      <th>1</th>\n",
       "      <td>Appreciation Post for How Far Weâve Come in ...</td>\n",
       "      <td>NaN</td>\n",
       "      <td>1679855162</td>\n",
       "      <td>0</td>\n",
       "      <td>0</td>\n",
       "      <td>0</td>\n",
       "    </tr>\n",
       "    <tr>\n",
       "      <th>2</th>\n",
       "      <td>Just Got A 30 Day Ban on a Left Wing Sub</td>\n",
       "      <td>[removed]</td>\n",
       "      <td>1679854478</td>\n",
       "      <td>9</td>\n",
       "      <td>0</td>\n",
       "      <td>0</td>\n",
       "    </tr>\n",
       "    <tr>\n",
       "      <th>3</th>\n",
       "      <td>Anyone here cycle off/on their supplement vita...</td>\n",
       "      <td>[removed]</td>\n",
       "      <td>1679854077</td>\n",
       "      <td>9</td>\n",
       "      <td>0</td>\n",
       "      <td>0</td>\n",
       "    </tr>\n",
       "    <tr>\n",
       "      <th>4</th>\n",
       "      <td>feeling hopeless about it all</td>\n",
       "      <td>When I'm thinking of all the baby chicks getti...</td>\n",
       "      <td>1679853443</td>\n",
       "      <td>763</td>\n",
       "      <td>131</td>\n",
       "      <td>0</td>\n",
       "    </tr>\n",
       "  </tbody>\n",
       "</table>\n",
       "</div>"
      ],
      "text/plain": [
       "                                               title  \\\n",
       "0  Last friday someone from my college told me it...   \n",
       "1  Appreciation Post for How Far Weâve Come in ...   \n",
       "2           Just Got A 30 Day Ban on a Left Wing Sub   \n",
       "3  Anyone here cycle off/on their supplement vita...   \n",
       "4                      feeling hopeless about it all   \n",
       "\n",
       "                                            selftext  created_utc  length  \\\n",
       "0  So me and a women from my college talked a lit...   1679855229    4419   \n",
       "1                                                NaN   1679855162       0   \n",
       "2                                          [removed]   1679854478       9   \n",
       "3                                          [removed]   1679854077       9   \n",
       "4  When I'm thinking of all the baby chicks getti...   1679853443     763   \n",
       "\n",
       "   word_count  target  \n",
       "0         832       0  \n",
       "1           0       0  \n",
       "2           0       0  \n",
       "3           0       0  \n",
       "4         131       0  "
      ]
     },
     "execution_count": 31,
     "metadata": {},
     "output_type": "execute_result"
    }
   ],
   "source": [
    "vegan.head()"
   ]
  },
  {
   "cell_type": "code",
   "execution_count": 32,
   "id": "0cf89069",
   "metadata": {},
   "outputs": [],
   "source": [
    "vegan.dropna(inplace=True)"
   ]
  },
  {
   "cell_type": "code",
   "execution_count": 33,
   "id": "4eb9f73e",
   "metadata": {},
   "outputs": [
    {
     "data": {
      "text/plain": [
       "(42140, 6)"
      ]
     },
     "execution_count": 33,
     "metadata": {},
     "output_type": "execute_result"
    }
   ],
   "source": [
    "vegan.shape"
   ]
  },
  {
   "cell_type": "code",
   "execution_count": 34,
   "id": "988a269d",
   "metadata": {},
   "outputs": [],
   "source": [
    "cvec = CountVectorizer(max_features = 1000,\n",
    "                      stop_words = 'english')"
   ]
  },
  {
   "cell_type": "code",
   "execution_count": 39,
   "id": "9e171810",
   "metadata": {},
   "outputs": [],
   "source": [
    "X = cvec.fit_transform(vegan['selftext']).toarray()"
   ]
  },
  {
   "cell_type": "code",
   "execution_count": null,
   "id": "bfe4883a",
   "metadata": {},
   "outputs": [],
   "source": []
  },
  {
   "cell_type": "code",
   "execution_count": 41,
   "id": "e9f337ae",
   "metadata": {
    "scrolled": true
   },
   "outputs": [],
   "source": [
    "df = pd.DataFrame(X,columns = cvec.get_feature_names_out())"
   ]
  },
  {
   "cell_type": "code",
   "execution_count": 46,
   "id": "9f1fa257",
   "metadata": {},
   "outputs": [
    {
     "data": {
      "text/plain": [
       "vegan         26472\n",
       "deleted       14049\n",
       "just          11640\n",
       "like          10858\n",
       "removed        9529\n",
       "iâ             9216\n",
       "ve             7603\n",
       "meat           7268\n",
       "https          7206\n",
       "know           7061\n",
       "people         6994\n",
       "animals        6614\n",
       "eat            6195\n",
       "animal         6081\n",
       "food           5496\n",
       "really         5439\n",
       "want           5390\n",
       "don            4998\n",
       "com            4744\n",
       "amp            4727\n",
       "make           4603\n",
       "eating         4476\n",
       "think          4453\n",
       "feel           4409\n",
       "www            4146\n",
       "time           4070\n",
       "good           3804\n",
       "diet           3676\n",
       "products       3484\n",
       "veganism       3481\n",
       "vegans         3202\n",
       "going          3164\n",
       "milk           3143\n",
       "years          3051\n",
       "way            2990\n",
       "itâ            2972\n",
       "lot            2959\n",
       "donâ           2910\n",
       "help           2908\n",
       "based          2771\n",
       "need           2730\n",
       "day            2634\n",
       "love           2574\n",
       "things         2552\n",
       "plant          2534\n",
       "does           2392\n",
       "use            2329\n",
       "life           2316\n",
       "vegetarian     2286\n",
       "say            2196\n",
       "dtype: int64"
      ]
     },
     "execution_count": 46,
     "metadata": {},
     "output_type": "execute_result"
    }
   ],
   "source": [
    "df.sum().sort_values(ascending=False).head(50)"
   ]
  },
  {
   "cell_type": "code",
   "execution_count": null,
   "id": "f3a5cefe",
   "metadata": {},
   "outputs": [],
   "source": []
  },
  {
   "cell_type": "code",
   "execution_count": null,
   "id": "88fdb007",
   "metadata": {},
   "outputs": [],
   "source": []
  },
  {
   "cell_type": "code",
   "execution_count": null,
   "id": "7ad0220f",
   "metadata": {},
   "outputs": [],
   "source": []
  }
 ],
 "metadata": {
  "kernelspec": {
   "display_name": "Python 3 (ipykernel)",
   "language": "python",
   "name": "python3"
  },
  "language_info": {
   "codemirror_mode": {
    "name": "ipython",
    "version": 3
   },
   "file_extension": ".py",
   "mimetype": "text/x-python",
   "name": "python",
   "nbconvert_exporter": "python",
   "pygments_lexer": "ipython3",
   "version": "3.9.13"
  }
 },
 "nbformat": 4,
 "nbformat_minor": 5
}
