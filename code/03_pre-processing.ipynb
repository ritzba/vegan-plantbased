{
 "cells": [
  {
   "cell_type": "markdown",
   "id": "2c3d442b",
   "metadata": {},
   "source": [
    "# 03 Pre-Processing"
   ]
  },
  {
   "cell_type": "code",
   "execution_count": 1,
   "id": "dab173e1",
   "metadata": {},
   "outputs": [],
   "source": [
    "# Import libraries\n",
    "\n",
    "import numpy as np\n",
    "import pandas as pd\n",
    "\n",
    "from sklearn.model_selection import train_test_split\n",
    "from sklearn.feature_extraction.text import TfidfVectorizer\n",
    "from sklearn.compose import ColumnTransformer\n",
    "\n",
    "import spacy"
   ]
  },
  {
   "cell_type": "code",
   "execution_count": 2,
   "id": "9ff00f2a",
   "metadata": {},
   "outputs": [],
   "source": [
    "# Read clean data\n",
    "\n",
    "vegan = pd.read_csv('../data/vegan_clean.csv')\n",
    "plant = pd.read_csv('../data/plant_clean.csv')"
   ]
  },
  {
   "cell_type": "code",
   "execution_count": 3,
   "id": "c69c2be6",
   "metadata": {},
   "outputs": [],
   "source": [
    "# Set values for target\n",
    "\n",
    "vegan['target'] = 0\n",
    "plant['target'] = 1"
   ]
  },
  {
   "cell_type": "code",
   "execution_count": 4,
   "id": "de2b2d4a",
   "metadata": {},
   "outputs": [],
   "source": [
    "# Concatenate posts\n",
    "\n",
    "posts = pd.concat([vegan,plant], axis = 0)"
   ]
  },
  {
   "cell_type": "code",
   "execution_count": 5,
   "id": "d6659ff4",
   "metadata": {},
   "outputs": [
    {
     "data": {
      "text/plain": [
       "title             4\n",
       "selftext          0\n",
       "created_utc       0\n",
       "post_length       0\n",
       "title_length      0\n",
       "post_words        0\n",
       "title_words       0\n",
       "avg_word_post     0\n",
       "avg_word_title    0\n",
       "target            0\n",
       "dtype: int64"
      ]
     },
     "execution_count": 5,
     "metadata": {},
     "output_type": "execute_result"
    },
    {
     "data": {
      "text/plain": [
       "title             4\n",
       "selftext          0\n",
       "created_utc       0\n",
       "post_length       0\n",
       "title_length      0\n",
       "post_words        0\n",
       "title_words       0\n",
       "avg_word_post     0\n",
       "avg_word_title    0\n",
       "target            0\n",
       "dtype: int64"
      ]
     },
     "execution_count": 5,
     "metadata": {},
     "output_type": "execute_result"
    }
   ],
   "source": [
    "# Check for nulls\n",
    "\n",
    "posts.isnull().sum()"
   ]
  },
  {
   "cell_type": "code",
   "execution_count": 6,
   "id": "e45dec91",
   "metadata": {},
   "outputs": [],
   "source": [
    "#  Drop nulls\n",
    "\n",
    "posts.dropna(inplace=True)"
   ]
  },
  {
   "cell_type": "code",
   "execution_count": 7,
   "id": "36bb4a5b",
   "metadata": {},
   "outputs": [],
   "source": [
    "# Select title and selftext as features\n",
    "\n",
    "X = posts[['title','selftext']]\n",
    "y = posts['target']"
   ]
  },
  {
   "cell_type": "code",
   "execution_count": 8,
   "id": "32e7f626",
   "metadata": {},
   "outputs": [],
   "source": [
    "# Train-test split\n",
    "\n",
    "X_train, X_test, y_train, y_test = train_test_split(X, y, \n",
    "                                                    stratify = y, \n",
    "                                                    random_state = 42)"
   ]
  },
  {
   "cell_type": "code",
   "execution_count": 9,
   "id": "f64470e3",
   "metadata": {
    "scrolled": true
   },
   "outputs": [
    {
     "data": {
      "text/plain": [
       "((27291, 2), (27291,), (9097, 2), (9097,))"
      ]
     },
     "execution_count": 9,
     "metadata": {},
     "output_type": "execute_result"
    },
    {
     "data": {
      "text/plain": [
       "((27291, 2), (27291,), (9097, 2), (9097,))"
      ]
     },
     "execution_count": 9,
     "metadata": {},
     "output_type": "execute_result"
    }
   ],
   "source": [
    "# View shape of data \n",
    "\n",
    "X_train.shape, y_train.shape, X_test.shape, y_test.shape"
   ]
  },
  {
   "cell_type": "code",
   "execution_count": 10,
   "id": "42b443e8",
   "metadata": {},
   "outputs": [
    {
     "name": "stdout",
     "output_type": "stream",
     "text": [
      "0    0.720714\n",
      "1    0.279286\n",
      "Name: target, dtype: float64\n",
      "0    0.720677\n",
      "1    0.279323\n",
      "Name: target, dtype: float64\n",
      "0    0.720714\n",
      "1    0.279286\n",
      "Name: target, dtype: float64\n",
      "0    0.720677\n",
      "1    0.279323\n",
      "Name: target, dtype: float64\n"
     ]
    }
   ],
   "source": [
    "# View distribution of target for baseline accuracy score\n",
    "\n",
    "print(y_train.value_counts(normalize=True))\n",
    "print(y_test.value_counts(normalize=True))"
   ]
  },
  {
   "cell_type": "markdown",
   "id": "08a4f430",
   "metadata": {},
   "source": [
    "Both train and target have approximately 72% vegan posts, so this is the baseline accuracy score that our models will attempt to beat."
   ]
  },
  {
   "cell_type": "code",
   "execution_count": 11,
   "id": "49f9652c",
   "metadata": {},
   "outputs": [],
   "source": [
    "#  Create spacy object\n",
    "\n",
    "nlp = spacy.load('en_core_web_md')"
   ]
  },
  {
   "cell_type": "code",
   "execution_count": 12,
   "id": "aba1fa52",
   "metadata": {
    "scrolled": true
   },
   "outputs": [],
   "source": [
    "stopwords = nlp.Defaults.stop_words"
   ]
  },
  {
   "cell_type": "code",
   "execution_count": 13,
   "id": "2025a9b5",
   "metadata": {},
   "outputs": [],
   "source": [
    "#  Create spacy tokenizer\n",
    "#  Tokenize will lemmatize and exclude lemmas with POS unrelated to post content\n",
    "\n",
    "class spacy_tokenizer():\n",
    "    def __init__(self):\n",
    "        self\n",
    "    def __call__(self,post):\n",
    "        doc = nlp(post)\n",
    "        return [token.lemma_ for token in doc if \n",
    "                         token.pos_.lower() not in ['aux','punct','cconj','det','space','conj','adp','pron','sym']]"
   ]
  },
  {
   "cell_type": "code",
   "execution_count": 14,
   "id": "3ca5fae1",
   "metadata": {},
   "outputs": [],
   "source": [
    "#  TF-IDF Vectorizer for titles and selftext\n",
    "\n",
    "tvec_t = TfidfVectorizer(stop_words = stopwords, \n",
    "                         max_features = 1000,\n",
    "                         min_df = 3,\n",
    "                         max_df = .95,\n",
    "                         ngram_range = (1,1),\n",
    "                         tokenizer = spacy_tokenizer())\n",
    "\n",
    "tvec_s = TfidfVectorizer(stop_words = stopwords, \n",
    "                         max_features = 1000,\n",
    "                         min_df = 3,\n",
    "                         max_df = .95,\n",
    "                         ngram_range = (1,1),\n",
    "                         tokenizer = spacy_tokenizer())\n"
   ]
  },
  {
   "cell_type": "markdown",
   "id": "3efd1dff",
   "metadata": {},
   "source": [
    "We are using small values for max_features and ngram_range and not checking combinations through GridSearch because of the computational constraints of the tokenizer and later constraints that would arise from combining the vectorizer to a pipeline. "
   ]
  },
  {
   "cell_type": "code",
   "execution_count": 15,
   "id": "54868239",
   "metadata": {},
   "outputs": [],
   "source": [
    "ctx = ColumnTransformer([\n",
    "    ('tvec_t',tvec_t,'title'),\n",
    "    ('tvec_s',tvec_s,'selftext')\n",
    "],remainder = 'passthrough',n_jobs = -1)"
   ]
  },
  {
   "cell_type": "code",
   "execution_count": 16,
   "id": "34c0853a",
   "metadata": {},
   "outputs": [
    {
     "data": {
      "text/plain": [
       "ColumnTransformer(n_jobs=-1, remainder='passthrough',\n",
       "                  transformers=[('tvec_t',\n",
       "                                 TfidfVectorizer(max_df=0.95, max_features=1000,\n",
       "                                                 min_df=3,\n",
       "                                                 stop_words={\"'d\", \"'ll\", \"'m\",\n",
       "                                                             \"'re\", \"'s\", \"'ve\",\n",
       "                                                             'a', 'about',\n",
       "                                                             'above', 'across',\n",
       "                                                             'after',\n",
       "                                                             'afterwards',\n",
       "                                                             'again', 'against',\n",
       "                                                             'all', 'almost',\n",
       "                                                             'alone', 'along',\n",
       "                                                             'already', 'also',\n",
       "                                                             'although',\n",
       "                                                             'always', 'am',\n",
       "                                                             'among', 'amongst',\n",
       "                                                             'amount', 'an',\n",
       "                                                             '...\n",
       "                                 TfidfVectorizer(max_df=0.95, max_features=1000,\n",
       "                                                 min_df=3,\n",
       "                                                 stop_words={\"'d\", \"'ll\", \"'m\",\n",
       "                                                             \"'re\", \"'s\", \"'ve\",\n",
       "                                                             'a', 'about',\n",
       "                                                             'above', 'across',\n",
       "                                                             'after',\n",
       "                                                             'afterwards',\n",
       "                                                             'again', 'against',\n",
       "                                                             'all', 'almost',\n",
       "                                                             'alone', 'along',\n",
       "                                                             'already', 'also',\n",
       "                                                             'although',\n",
       "                                                             'always', 'am',\n",
       "                                                             'among', 'amongst',\n",
       "                                                             'amount', 'an',\n",
       "                                                             'and', 'another',\n",
       "                                                             'any', ...},\n",
       "                                                 tokenizer=<__main__.spacy_tokenizer object at 0x0000028B44280E20>),\n",
       "                                 'selftext')])"
      ]
     },
     "execution_count": 16,
     "metadata": {},
     "output_type": "execute_result"
    },
    {
     "data": {
      "text/plain": [
       "ColumnTransformer(n_jobs=-1, remainder='passthrough',\n",
       "                  transformers=[('tvec_t',\n",
       "                                 TfidfVectorizer(max_df=0.95, max_features=1000,\n",
       "                                                 min_df=3,\n",
       "                                                 stop_words={\"'d\", \"'ll\", \"'m\",\n",
       "                                                             \"'re\", \"'s\", \"'ve\",\n",
       "                                                             'a', 'about',\n",
       "                                                             'above', 'across',\n",
       "                                                             'after',\n",
       "                                                             'afterwards',\n",
       "                                                             'again', 'against',\n",
       "                                                             'all', 'almost',\n",
       "                                                             'alone', 'along',\n",
       "                                                             'already', 'also',\n",
       "                                                             'although',\n",
       "                                                             'always', 'am',\n",
       "                                                             'among', 'amongst',\n",
       "                                                             'amount', 'an',\n",
       "                                                             '...\n",
       "                                 TfidfVectorizer(max_df=0.95, max_features=1000,\n",
       "                                                 min_df=3,\n",
       "                                                 stop_words={\"'d\", \"'ll\", \"'m\",\n",
       "                                                             \"'re\", \"'s\", \"'ve\",\n",
       "                                                             'a', 'about',\n",
       "                                                             'above', 'across',\n",
       "                                                             'after',\n",
       "                                                             'afterwards',\n",
       "                                                             'again', 'against',\n",
       "                                                             'all', 'almost',\n",
       "                                                             'alone', 'along',\n",
       "                                                             'already', 'also',\n",
       "                                                             'although',\n",
       "                                                             'always', 'am',\n",
       "                                                             'among', 'amongst',\n",
       "                                                             'amount', 'an',\n",
       "                                                             'and', 'another',\n",
       "                                                             'any', ...},\n",
       "                                                 tokenizer=<__main__.spacy_tokenizer object at 0x0000028B44280E20>),\n",
       "                                 'selftext')])"
      ]
     },
     "execution_count": 16,
     "metadata": {},
     "output_type": "execute_result"
    }
   ],
   "source": [
    "ctx.fit(X_train)"
   ]
  },
  {
   "cell_type": "code",
   "execution_count": null,
   "id": "ca0f5b18",
   "metadata": {},
   "outputs": [],
   "source": []
  },
  {
   "cell_type": "code",
   "execution_count": 17,
   "id": "894efef2",
   "metadata": {},
   "outputs": [],
   "source": [
    "X_train = ctx.transform(X_train)"
   ]
  },
  {
   "cell_type": "code",
   "execution_count": 18,
   "id": "fc957605",
   "metadata": {},
   "outputs": [],
   "source": [
    "X_test = ctx.transform(X_test)"
   ]
  },
  {
   "cell_type": "code",
   "execution_count": null,
   "id": "e6abb86e",
   "metadata": {},
   "outputs": [],
   "source": []
  },
  {
   "cell_type": "code",
   "execution_count": 19,
   "id": "6224bca4",
   "metadata": {},
   "outputs": [
    {
     "data": {
      "text/plain": [
       "((27291, 2000), (9097, 2000))"
      ]
     },
     "execution_count": 19,
     "metadata": {},
     "output_type": "execute_result"
    },
    {
     "data": {
      "text/plain": [
       "((27291, 2000), (9097, 2000))"
      ]
     },
     "execution_count": 19,
     "metadata": {},
     "output_type": "execute_result"
    }
   ],
   "source": [
    "#  Check shapes (should have 1000 columns each)\n",
    "\n",
    "X_train.shape,X_test.shape"
   ]
  },
  {
   "cell_type": "code",
   "execution_count": null,
   "id": "72c9bf6b",
   "metadata": {},
   "outputs": [],
   "source": []
  },
  {
   "cell_type": "code",
   "execution_count": 20,
   "id": "c3b283b1",
   "metadata": {},
   "outputs": [],
   "source": [
    "#  Reassemble as dataframes\n",
    "\n",
    "X_train = pd.DataFrame(X_train.toarray(), columns = ctx.get_feature_names_out())\n",
    "X_test = pd.DataFrame(X_test.toarray(), columns = ctx.get_feature_names_out())"
   ]
  },
  {
   "cell_type": "code",
   "execution_count": 23,
   "id": "9bb5f322",
   "metadata": {},
   "outputs": [],
   "source": [
    "# Write vectorized data to data folder\n",
    "\n",
    "X_train.to_csv('../data/X_train_tvec.csv',index=False)\n",
    "X_test.to_csv('../data/X_test_tvec.csv',index=False)"
   ]
  },
  {
   "cell_type": "code",
   "execution_count": 24,
   "id": "721e3e20",
   "metadata": {},
   "outputs": [],
   "source": [
    "# Write targets to data folder\n",
    "\n",
    "y_train.to_csv('../data/y_train.csv',index=False)\n",
    "y_test.to_csv('../data/y_test.csv',index=False)"
   ]
  }
 ],
 "metadata": {
  "kernelspec": {
   "display_name": "Python 3 (ipykernel)",
   "language": "python",
   "name": "python3"
  },
  "language_info": {
   "codemirror_mode": {
    "name": "ipython",
    "version": 3
   },
   "file_extension": ".py",
   "mimetype": "text/x-python",
   "name": "python",
   "nbconvert_exporter": "python",
   "pygments_lexer": "ipython3",
   "version": "3.9.13"
  }
 },
 "nbformat": 4,
 "nbformat_minor": 5
}
